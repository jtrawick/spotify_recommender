{
 "cells": [
  {
   "cell_type": "markdown",
   "metadata": {},
   "source": [
    "## Spotify Recommender Model "
   ]
  },
  {
   "cell_type": "markdown",
   "metadata": {},
   "source": [
    "This notebook is intended to prototype a recommender model for music utilizing the Spotify API."
   ]
  },
  {
   "cell_type": "code",
   "execution_count": 40,
   "metadata": {},
   "outputs": [],
   "source": [
    "import numpy as np\n",
    "import pandas as pd\n",
    "import os, requests, time\n",
    "\n",
    "\n",
    "class TokenHolder:\n",
    "    '''Class to hold the Spotify API token and keep track of time until expiry.'''\n",
    "    def __init__(self, token: str, token_type: str, token_expiry: int):\n",
    "        '''\n",
    "        Parameters:\n",
    "        ----------\n",
    "        token : str\n",
    "            The Spotify API token\n",
    "        token_type : str\n",
    "            The type of token (Bearer)\n",
    "        token_expiry : int\n",
    "            The time in seconds until the token expires\n",
    "            \n",
    "        Methods:\n",
    "        --------\n",
    "        get_token_time()\n",
    "            Returns the time in seconds until the token expires (rounded to 2 decimal places)\n",
    "        \n",
    "        '''\n",
    "        self.token = token\n",
    "        self.token_type = token_type\n",
    "        self.token_expiry = token_expiry\n",
    "        self.token_exp_time = self._start_token_timer(token_expiry)\n",
    "        \n",
    "    def _start_token_timer(self, token_expiry):\n",
    "        return time.time() + token_expiry\n",
    "    \n",
    "    def get_token_time(self):\n",
    "        return round(self.token_time - time.time(), 2)\n",
    "\n",
    "# Set up the API request parameters for the Spotify API\n",
    "auth_url = 'https://accounts.spotify.com/api/token'\n",
    "client = os.environ.get('SPOTIFY_API_CLIENT')\n",
    "key = os.environ.get('SPOTIFY_API_KEY')\n",
    "\n",
    "# Request headers dict\n",
    "headers = {\n",
    "    'Content-Type': 'application/x-www-form-urlencoded',\n",
    "}\n",
    "\n",
    "# Request body dict\n",
    "data = {\n",
    "    'grant_type': 'client_credentials',\n",
    "    'redirect_uri': 'http://localhost:8888/callback',\n",
    "    'client_id': client,\n",
    "    'client_secret': key\n",
    "}\n",
    "\n",
    "r = requests.post(url=auth_url, headers=headers, data=data)\n",
    "\n",
    "# Store auth info if request is successful\n",
    "if r.status_code != 200:\n",
    "    print(f'Error: {r.status_code}\\n{r.reason}')\n",
    "else:\n",
    "    token = r.json()['access_token']\n",
    "    token_type = r.json()['token_type']\n",
    "    token_expiry = r.json()['expires_in']\n",
    "    "
   ]
  },
  {
   "cell_type": "code",
   "execution_count": 36,
   "metadata": {},
   "outputs": [
    {
     "data": {
      "text/plain": [
       "{'external_urls': {'spotify': 'https://open.spotify.com/artist/4Z8W4fKeB5YxbusRsdQVPb'},\n",
       " 'followers': {'href': None, 'total': 9838269},\n",
       " 'genres': ['alternative rock',\n",
       "  'art rock',\n",
       "  'melancholia',\n",
       "  'oxford indie',\n",
       "  'permanent wave',\n",
       "  'rock'],\n",
       " 'href': 'https://api.spotify.com/v1/artists/4Z8W4fKeB5YxbusRsdQVPb',\n",
       " 'id': '4Z8W4fKeB5YxbusRsdQVPb',\n",
       " 'images': [{'height': 640,\n",
       "   'url': 'https://i.scdn.co/image/ab6761610000e5eba03696716c9ee605006047fd',\n",
       "   'width': 640},\n",
       "  {'height': 320,\n",
       "   'url': 'https://i.scdn.co/image/ab67616100005174a03696716c9ee605006047fd',\n",
       "   'width': 320},\n",
       "  {'height': 160,\n",
       "   'url': 'https://i.scdn.co/image/ab6761610000f178a03696716c9ee605006047fd',\n",
       "   'width': 160}],\n",
       " 'name': 'Radiohead',\n",
       " 'popularity': 78,\n",
       " 'type': 'artist',\n",
       " 'uri': 'spotify:artist:4Z8W4fKeB5YxbusRsdQVPb'}"
      ]
     },
     "execution_count": 36,
     "metadata": {},
     "output_type": "execute_result"
    }
   ],
   "source": [
    "base = 'https://api.spotify.com/v1/'\n",
    "endpoint = 'artists/'\n",
    "id = '4Z8W4fKeB5YxbusRsdQVPb'\n",
    "\n",
    "headers = {\n",
    "    'Authorization': f'{token_type} {token}'\n",
    "}\n",
    "\n",
    "r = requests.get(url=base+endpoint+id, headers=headers)\n",
    "r.json()"
   ]
  },
  {
   "cell_type": "code",
   "execution_count": null,
   "metadata": {},
   "outputs": [],
   "source": []
  }
 ],
 "metadata": {
  "kernelspec": {
   "display_name": "spotify",
   "language": "python",
   "name": "python3"
  },
  "language_info": {
   "codemirror_mode": {
    "name": "ipython",
    "version": 3
   },
   "file_extension": ".py",
   "mimetype": "text/x-python",
   "name": "python",
   "nbconvert_exporter": "python",
   "pygments_lexer": "ipython3",
   "version": "3.11.9"
  },
  "orig_nbformat": 4
 },
 "nbformat": 4,
 "nbformat_minor": 2
}

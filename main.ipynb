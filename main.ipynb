{
 "cells": [
  {
   "cell_type": "markdown",
   "metadata": {},
   "source": [
    "## Spotify Recommender Model "
   ]
  },
  {
   "cell_type": "markdown",
   "metadata": {},
   "source": [
    "This notebook is intended to prototype a recommender model for music utilizing the Spotify API."
   ]
  },
  {
   "cell_type": "code",
   "execution_count": 39,
   "metadata": {},
   "outputs": [
    {
     "ename": "KeyboardInterrupt",
     "evalue": "",
     "output_type": "error",
     "traceback": [
      "\u001b[1;31m---------------------------------------------------------------------------\u001b[0m",
      "\u001b[1;31mKeyboardInterrupt\u001b[0m                         Traceback (most recent call last)",
      "Cell \u001b[1;32mIn[39], line 40\u001b[0m\n\u001b[0;32m     37\u001b[0m     \u001b[38;5;28;01mreturn\u001b[39;00m\n\u001b[0;32m     39\u001b[0m \u001b[38;5;66;03m# set the token timer\u001b[39;00m\n\u001b[1;32m---> 40\u001b[0m token_time \u001b[38;5;241m=\u001b[39m token_timer(token_expiry)\n",
      "Cell \u001b[1;32mIn[39], line 35\u001b[0m, in \u001b[0;36mtoken_timer\u001b[1;34m(token_expiry)\u001b[0m\n\u001b[0;32m     33\u001b[0m \u001b[38;5;28;01mdef\u001b[39;00m \u001b[38;5;21mtoken_timer\u001b[39m(token_expiry):\n\u001b[0;32m     34\u001b[0m     \u001b[38;5;28;01mwhile\u001b[39;00m token_expiry \u001b[38;5;241m>\u001b[39m \u001b[38;5;241m0\u001b[39m:\n\u001b[1;32m---> 35\u001b[0m         time\u001b[38;5;241m.\u001b[39msleep(\u001b[38;5;241m1\u001b[39m)\n\u001b[0;32m     36\u001b[0m         token_expiry \u001b[38;5;241m-\u001b[39m\u001b[38;5;241m=\u001b[39m \u001b[38;5;241m1\u001b[39m\n\u001b[0;32m     37\u001b[0m     \u001b[38;5;28;01mreturn\u001b[39;00m\n",
      "\u001b[1;31mKeyboardInterrupt\u001b[0m: "
     ]
    }
   ],
   "source": [
    "import numpy as np\n",
    "import pandas as pd\n",
    "import requests, secret, time\n",
    "\n",
    "# Set up the API request parameters for the Spotify API\n",
    "auth_url = 'https://accounts.spotify.com/api/token'\n",
    "client = secret.SPOTIFY_API_CLIENT\n",
    "key = secret.SPOTIFY_API_KEY\n",
    "\n",
    "# Request headers dict\n",
    "headers = {\n",
    "    'Content-Type': 'application/x-www-form-urlencoded',\n",
    "}\n",
    "\n",
    "# Request body dict\n",
    "data = {\n",
    "    'grant_type': 'client_credentials',\n",
    "    'redirect_uri': 'http://localhost:8888/callback',\n",
    "    'client_id': client,\n",
    "    'client_secret': key\n",
    "}\n",
    "\n",
    "r = requests.post(url=auth_url, headers=headers, data=data)\n",
    "\n",
    "# Store auth info if request is successful\n",
    "if r.status_code != 200:\n",
    "    print(f'Error: {r.status_code}\\n{r.reason}')\n",
    "else:\n",
    "    token = r.json()['access_token']\n",
    "    token_type = r.json()['token_type']\n",
    "    token_expiry = r.json()['expires_in']\n",
    "    \n",
    "def token_timer(token_expiry, timer=\n",
    "    \n",
    "    \n",
    "    \n",
    "# set the token timer\n",
    "token_time = token_timer(token_expiry)"
   ]
  },
  {
   "cell_type": "code",
   "execution_count": null,
   "metadata": {},
   "outputs": [],
   "source": []
  },
  {
   "cell_type": "code",
   "execution_count": 36,
   "metadata": {},
   "outputs": [
    {
     "data": {
      "text/plain": [
       "{'external_urls': {'spotify': 'https://open.spotify.com/artist/4Z8W4fKeB5YxbusRsdQVPb'},\n",
       " 'followers': {'href': None, 'total': 9838269},\n",
       " 'genres': ['alternative rock',\n",
       "  'art rock',\n",
       "  'melancholia',\n",
       "  'oxford indie',\n",
       "  'permanent wave',\n",
       "  'rock'],\n",
       " 'href': 'https://api.spotify.com/v1/artists/4Z8W4fKeB5YxbusRsdQVPb',\n",
       " 'id': '4Z8W4fKeB5YxbusRsdQVPb',\n",
       " 'images': [{'height': 640,\n",
       "   'url': 'https://i.scdn.co/image/ab6761610000e5eba03696716c9ee605006047fd',\n",
       "   'width': 640},\n",
       "  {'height': 320,\n",
       "   'url': 'https://i.scdn.co/image/ab67616100005174a03696716c9ee605006047fd',\n",
       "   'width': 320},\n",
       "  {'height': 160,\n",
       "   'url': 'https://i.scdn.co/image/ab6761610000f178a03696716c9ee605006047fd',\n",
       "   'width': 160}],\n",
       " 'name': 'Radiohead',\n",
       " 'popularity': 78,\n",
       " 'type': 'artist',\n",
       " 'uri': 'spotify:artist:4Z8W4fKeB5YxbusRsdQVPb'}"
      ]
     },
     "execution_count": 36,
     "metadata": {},
     "output_type": "execute_result"
    }
   ],
   "source": [
    "base = 'https://api.spotify.com/v1/'\n",
    "endpoint = 'artists/'\n",
    "id = '4Z8W4fKeB5YxbusRsdQVPb'\n",
    "\n",
    "headers = {\n",
    "    'Authorization': f'{token_type} {token}'\n",
    "}\n",
    "\n",
    "r = requests.get(url=base+endpoint+id, headers=headers)\n",
    "r.json()"
   ]
  },
  {
   "cell_type": "code",
   "execution_count": null,
   "metadata": {},
   "outputs": [],
   "source": []
  },
  {
   "cell_type": "code",
   "execution_count": null,
   "metadata": {},
   "outputs": [],
   "source": []
  },
  {
   "cell_type": "code",
   "execution_count": null,
   "metadata": {},
   "outputs": [],
   "source": []
  }
 ],
 "metadata": {
  "kernelspec": {
   "display_name": "spotify",
   "language": "python",
   "name": "python3"
  },
  "language_info": {
   "codemirror_mode": {
    "name": "ipython",
    "version": 3
   },
   "file_extension": ".py",
   "mimetype": "text/x-python",
   "name": "python",
   "nbconvert_exporter": "python",
   "pygments_lexer": "ipython3",
   "version": "3.11.9"
  },
  "orig_nbformat": 4
 },
 "nbformat": 4,
 "nbformat_minor": 2
}
